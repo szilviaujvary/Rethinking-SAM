{
  "cells": [
    {
      "cell_type": "code",
      "execution_count": null,
      "metadata": {
        "colab": {
          "base_uri": "https://localhost:8080/"
        },
        "id": "vZcpwLQZFGgy",
        "outputId": "9559c3e2-7c32-41fd-c740-3f0d33469358"
      },
      "outputs": [],
      "source": [
        "!git clone https://github.com/zsiga007/megasam.git"
      ]
    },
    {
      "cell_type": "code",
      "execution_count": 1,
      "metadata": {
        "id": "M__tyGeoFbjK"
      },
      "outputs": [],
      "source": [
        "import sys; sys.path.append(\"..\")\n",
        "sys.path.append(\"megasam\")"
      ]
    },
    {
      "cell_type": "code",
      "execution_count": 2,
      "metadata": {
        "id": "m5UYQA1DEF9_"
      },
      "outputs": [],
      "source": [
        "import numpy as np\n",
        "import torch\n",
        "import torch.nn as nn\n",
        "import torch.nn.functional as F\n",
        "from torchvision import datasets, transforms, utils\n",
        "from tqdm.notebook import tqdm, trange\n",
        "from tqdm.notebook import tqdm\n",
        "device = \"cuda\" if torch.cuda.is_available() else \"cpu\""
      ]
    },
    {
      "cell_type": "code",
      "execution_count": null,
      "metadata": {
        "id": "f-KLBxvMofxK"
      },
      "outputs": [],
      "source": [
        "import argparse\n",
        "import torch\n",
        "\n",
        "from model.wide_res_net import WideResNet\n",
        "from model.smooth_cross_entropy import smooth_crossentropy\n",
        "from data.cifar import Cifar\n",
        "from utility.log import Log\n",
        "from utility.initialize import initialize\n",
        "from utility.step_lr import StepLR\n",
        "from utility.bypass_bn import enable_running_stats, disable_running_stats\n",
        "\n",
        "dataset = Cifar(batch_size=128, threads=4)"
      ]
    },
    {
      "cell_type": "markdown",
      "metadata": {
        "id": "L50HcYH8XY8C"
      },
      "source": [
        "## VSAM"
      ]
    },
    {
      "cell_type": "code",
      "execution_count": null,
      "metadata": {
        "id": "eeWSuhzrXaki"
      },
      "outputs": [],
      "source": [
        "from meanfield_optimizer import VSAM\n",
        "\n",
        "\n",
        "num_epochs = 200\n",
        "log = Log(log_each=10)\n",
        "model = WideResNet(depth=28, width_factor=10, dropout=0.0, in_channels=3, labels=10).to(device)\n",
        "base_optimizer = torch.optim.SGD\n",
        "optimizer = VSAM(model.parameters(), base_optimizer, momentum=0.9, rho=1000, lr=0.1, weight_decay=0.0005, lr_M=0.01)\n",
        "scheduler = StepLR(optimizer, 0.1, num_epochs)\n",
        "\n",
        "for epoch in range(num_epochs):\n",
        "    model.train()\n",
        "    log.train(len_dataset=len(dataset.train))\n",
        "\n",
        "    for batch in dataset.train:\n",
        "        inputs, targets = (b.to(device) for b in batch)\n",
        "\n",
        "        # first forward-backward step\n",
        "        enable_running_stats(model)\n",
        "\n",
        "        def closure():\n",
        "          z = model(inputs)\n",
        "          loss = smooth_crossentropy(z, targets, smoothing=0.1)\n",
        "          loss.mean().backward()\n",
        "          return loss\n",
        "\n",
        "        predictions = model(inputs)\n",
        "        loss = smooth_crossentropy(predictions, targets, smoothing=0.1)\n",
        "        loss.mean().backward()\n",
        "        optimizer.step(closure)\n",
        "        optimizer.zero_grad()\n",
        "        \n",
        "        with torch.no_grad():\n",
        "            correct = torch.argmax(predictions.data, 1) == targets\n",
        "            log(model, loss.cpu(), correct.cpu(), scheduler.lr())\n",
        "            scheduler(epoch)\n",
        "    \n",
        "    model.eval()\n",
        "    log.eval(len_dataset=len(dataset.test))\n",
        "\n",
        "    with torch.no_grad():\n",
        "        for batch in dataset.test:\n",
        "            inputs, targets = (b.to(device) for b in batch)\n",
        "\n",
        "            predictions = model(inputs)\n",
        "            loss = smooth_crossentropy(predictions, targets)\n",
        "            correct = torch.argmax(predictions, 1) == targets\n",
        "            log(model, loss.cpu(), correct.cpu())\n",
        "\n",
        "log.flush()"
      ]
    },
    {
      "cell_type": "markdown",
      "metadata": {
        "id": "fg4Z5n0ooUGI"
      },
      "source": [
        "## RSAM"
      ]
    },
    {
      "cell_type": "code",
      "execution_count": null,
      "metadata": {
        "id": "e0TeXbPEoZcD"
      },
      "outputs": [],
      "source": [
        "from meanfield_optimizer import RandomSAM\n",
        "\n",
        "\n",
        "num_epochs = 400\n",
        "\n",
        "log = Log(log_each=10)\n",
        "model = WideResNet(depth=28, width_factor=10, dropout=0.0, in_channels=3, labels=10).to(device)\n",
        "\n",
        "base_optimizer = torch.optim.SGD\n",
        "optimizer = RandomSAM(model.parameters(), base_optimizer, lr=0.1,  momentum=0.9, weight_decay=0.0005)\n",
        "scheduler = StepLR(optimizer, 0.1, num_epochs)\n",
        "\n",
        "for epoch in range(num_epochs):\n",
        "    model.train()\n",
        "    log.train(len_dataset=len(dataset.train))\n",
        "\n",
        "    for batch in dataset.train:\n",
        "        inputs, targets = (b.to(device) for b in batch)\n",
        "        optimizer.zero_grad()\n",
        "        # first forward-backward step\n",
        "        enable_running_stats(model)\n",
        "        predictions = model(inputs)\n",
        "        def closure():\n",
        "          predictions = model(inputs)\n",
        "          loss = smooth_crossentropy(predictions, targets, smoothing=0.1)\n",
        "          loss.mean().backward()\n",
        "          return loss\n",
        "        loss = smooth_crossentropy(predictions, targets, smoothing=0.1)\n",
        "        loss.mean().backward()\n",
        "        disable_running_stats(model)\n",
        "        optimizer.step(closure)\n",
        "\n",
        "\n",
        "        with torch.no_grad():\n",
        "            correct = torch.argmax(predictions.data, 1) == targets\n",
        "            log(model, loss.cpu(), correct.cpu(), scheduler.lr())\n",
        "            scheduler(epoch)\n",
        "\n",
        "    model.eval()\n",
        "    log.eval(len_dataset=len(dataset.test))\n",
        "\n",
        "    with torch.no_grad():\n",
        "        for batch in dataset.test:\n",
        "            inputs, targets = (b.to(device) for b in batch)\n",
        "\n",
        "            predictions = model(inputs)\n",
        "            loss = smooth_crossentropy(predictions, targets)\n",
        "            correct = torch.argmax(predictions, 1) == targets\n",
        "            log(model, loss.cpu(), correct.cpu())\n",
        "\n",
        "log.flush()"
      ]
    }
  ],
  "metadata": {
    "accelerator": "GPU",
    "colab": {
      "collapsed_sections": [
        "yuj_13hwXWy0"
      ],
      "machine_shape": "hm",
      "provenance": []
    },
    "gpuClass": "standard",
    "kernelspec": {
      "display_name": "Python 3.8.3 ('base')",
      "language": "python",
      "name": "python3"
    },
    "language_info": {
      "codemirror_mode": {
        "name": "ipython",
        "version": 3
      },
      "file_extension": ".py",
      "mimetype": "text/x-python",
      "name": "python",
      "nbconvert_exporter": "python",
      "pygments_lexer": "ipython3",
      "version": "3.8.3"
    },
    "vscode": {
      "interpreter": {
        "hash": "cd78fef2128015050713e82ca51c6520b11aee7c9ee8df750520bbbc7384cbaa"
      }
    }
  },
  "nbformat": 4,
  "nbformat_minor": 0
}
